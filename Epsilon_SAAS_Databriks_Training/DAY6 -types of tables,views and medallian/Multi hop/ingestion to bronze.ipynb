{
 "cells": [
  {
   "cell_type": "code",
   "execution_count": 0,
   "metadata": {
    "application/vnd.databricks.v1+cell": {
     "cellMetadata": {
      "byteLimit": 2048000,
      "rowLimit": 10000
     },
     "inputWidgets": {},
     "nuid": "74d0fd9a-75a2-401f-a381-dfd681904dc8",
     "showTitle": false,
     "tableResultSettingsMap": {},
     "title": ""
    }
   },
   "outputs": [],
   "source": [
    "%run \"/Workspace/Users/basumadagyal@gmail.com/epsilon_saas/Epsilon_SAAS_Databriks_Training/DAY6 -types of tables,views and medallian/Multi hop/includes\""
   ]
  },
  {
   "cell_type": "code",
   "execution_count": 0,
   "metadata": {
    "application/vnd.databricks.v1+cell": {
     "cellMetadata": {
      "byteLimit": 2048000,
      "rowLimit": 10000
     },
     "inputWidgets": {},
     "nuid": "6058ee33-0edf-4956-963b-e25a4d9b12b9",
     "showTitle": false,
     "tableResultSettingsMap": {},
     "title": ""
    }
   },
   "outputs": [],
   "source": [
    "dbutils.widgets.text(\"catalog\",\"dev\")\n",
    "dbutils.widgets.text(\"schema\",\"default\")\n",
    "dbutils.widgets.text(\"table\",\"tablename\")\n",
    "catalog=dbutils.widgets.get(\"catalog\")\n",
    "scehma=dbutils.widgets.get(\"schema\")\n",
    "table=dbutils.widgets.get(\"table\")"
   ]
  },
  {
   "cell_type": "code",
   "execution_count": 0,
   "metadata": {
    "application/vnd.databricks.v1+cell": {
     "cellMetadata": {
      "byteLimit": 2048000,
      "rowLimit": 10000
     },
     "inputWidgets": {},
     "nuid": "8046df42-8ed1-4c2a-a78e-162c98ac0215",
     "showTitle": true,
     "tableResultSettingsMap": {},
     "title": "E"
    }
   },
   "outputs": [],
   "source": [
    "df=spark.read.csv(f\"{input_path}{table}.csv\",header=True,inferSchema=True)\n",
    "df1=add_ingestion_col(df)\n",
    "df1.write.mode(\"overwrite\").saveAsTable(f\"{catalog}.{scehma}.{table}\")"
   ]
  },
  {
   "cell_type": "code",
   "execution_count": 0,
   "metadata": {
    "application/vnd.databricks.v1+cell": {
     "cellMetadata": {
      "byteLimit": 2048000,
      "rowLimit": 10000
     },
     "inputWidgets": {},
     "nuid": "0b4058ab-bbd6-4696-85df-e3794418d1c5",
     "showTitle": false,
     "tableResultSettingsMap": {},
     "title": ""
    }
   },
   "outputs": [],
   "source": []
  }
 ],
 "metadata": {
  "application/vnd.databricks.v1+notebook": {
   "computePreferences": null,
   "dashboards": [],
   "environmentMetadata": {
    "base_environment": "",
    "environment_version": "2"
   },
   "inputWidgetPreferences": null,
   "language": "python",
   "notebookMetadata": {
    "mostRecentlyExecutedCommandWithImplicitDF": {
     "commandId": 6266735570360286,
     "dataframes": [
      "_sqldf"
     ]
    },
    "pythonIndentUnit": 4
   },
   "notebookName": "ingestion to bronze",
   "widgets": {
    "catalog": {
     "currentValue": "saas",
     "nuid": "2e52ea79-fd02-4dd2-8af2-6da3a815db9f",
     "typedWidgetInfo": {
      "autoCreated": false,
      "defaultValue": "dev",
      "label": null,
      "name": "catalog",
      "options": {
       "widgetDisplayType": "Text",
       "validationRegex": null
      },
      "parameterDataType": "String"
     },
     "widgetInfo": {
      "widgetType": "text",
      "defaultValue": "dev",
      "label": null,
      "name": "catalog",
      "options": {
       "widgetType": "text",
       "autoCreated": null,
       "validationRegex": null
      }
     }
    },
    "schema": {
     "currentValue": "basavarajm_bronze",
     "nuid": "c757d312-18b1-466c-89e6-4936c5a7e8bc",
     "typedWidgetInfo": {
      "autoCreated": false,
      "defaultValue": "default",
      "label": null,
      "name": "schema",
      "options": {
       "widgetDisplayType": "Text",
       "validationRegex": null
      },
      "parameterDataType": "String"
     },
     "widgetInfo": {
      "widgetType": "text",
      "defaultValue": "default",
      "label": null,
      "name": "schema",
      "options": {
       "widgetType": "text",
       "autoCreated": null,
       "validationRegex": null
      }
     }
    },
    "table": {
     "currentValue": "products",
     "nuid": "71d0a258-ea82-46f7-8327-977fdbf37cf0",
     "typedWidgetInfo": {
      "autoCreated": false,
      "defaultValue": "tablename",
      "label": null,
      "name": "table",
      "options": {
       "widgetDisplayType": "Text",
       "validationRegex": null
      },
      "parameterDataType": "String"
     },
     "widgetInfo": {
      "widgetType": "text",
      "defaultValue": "tablename",
      "label": null,
      "name": "table",
      "options": {
       "widgetType": "text",
       "autoCreated": null,
       "validationRegex": null
      }
     }
    }
   }
  },
  "language_info": {
   "name": "python"
  }
 },
 "nbformat": 4,
 "nbformat_minor": 0
}
