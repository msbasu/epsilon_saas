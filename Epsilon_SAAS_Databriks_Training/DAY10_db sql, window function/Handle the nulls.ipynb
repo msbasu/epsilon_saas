{
 "cells": [
  {
   "cell_type": "code",
   "execution_count": 0,
   "metadata": {
    "application/vnd.databricks.v1+cell": {
     "cellMetadata": {
      "byteLimit": 2048000,
      "rowLimit": 10000
     },
     "inputWidgets": {},
     "nuid": "b68c8b0c-e730-45aa-aeb8-a342c41b9397",
     "showTitle": false,
     "tableResultSettingsMap": {},
     "title": ""
    }
   },
   "outputs": [],
   "source": [
    "schema=[\"name\", \"subject\", \"Marks\", \"Attendance\"]\n",
    "\n",
    "student_data=[(\"John\",\"Math\", 90, 80),(\"Michael\", \"Science\", 70, None), (\"David\", \"History\", 50,40), (\"Kelvin\", \"Computer\", 40,None ),(\"Paul\", \"GEO\", None, None), (None,None,  None, None),(\"John\",\"Math\", 90, 80),(\"John\",\"Math\", 90, 80),(None,None,  None, None),(None,None,  None, None),(None,None,  None, None),(None,\"Math\", 90, 80),('Naval',None, 90, 80) ]\n",
    "\n",
    "df=spark.createDataFrame(data=student_data, schema=schema)\n",
    "display(df)"
   ]
  },
  {
   "cell_type": "code",
   "execution_count": 0,
   "metadata": {
    "application/vnd.databricks.v1+cell": {
     "cellMetadata": {},
     "inputWidgets": {},
     "nuid": "e6b65095-ad59-4b6f-8c51-c1d029a15d4d",
     "showTitle": false,
     "tableResultSettingsMap": {},
     "title": ""
    }
   },
   "outputs": [],
   "source": [
    "nulls in all records-- delete\n",
    "null in name col == fill it with no name\n",
    "null in subject-=== fill it with Data&AI\n",
    "null in marks and attendance == fill it with 45"
   ]
  },
  {
   "cell_type": "code",
   "execution_count": 0,
   "metadata": {
    "application/vnd.databricks.v1+cell": {
     "cellMetadata": {},
     "inputWidgets": {},
     "nuid": "07d47c21-94b0-4924-acae-9dc1bf0867ae",
     "showTitle": false,
     "tableResultSettingsMap": {},
     "title": ""
    }
   },
   "outputs": [],
   "source": [
    "#hint\n",
    "1.drop duplicate\n",
    "2.dropna\n",
    "3.fillna"
   ]
  }
 ],
 "metadata": {
  "application/vnd.databricks.v1+notebook": {
   "computePreferences": null,
   "dashboards": [],
   "environmentMetadata": {
    "base_environment": "",
    "environment_version": "2"
   },
   "inputWidgetPreferences": null,
   "language": "python",
   "notebookMetadata": {
    "pythonIndentUnit": 4
   },
   "notebookName": "Handle the nulls",
   "widgets": {}
  },
  "language_info": {
   "name": "python"
  }
 },
 "nbformat": 4,
 "nbformat_minor": 0
}
