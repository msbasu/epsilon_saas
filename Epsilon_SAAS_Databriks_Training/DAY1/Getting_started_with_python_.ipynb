{
 "cells": [
  {
   "cell_type": "markdown",
   "metadata": {
    "application/vnd.databricks.v1+cell": {
     "cellMetadata": {},
     "inputWidgets": {},
     "nuid": "bb4d7bd7-bf85-4ed6-875e-1b7cfebb877c",
     "showTitle": false,
     "tableResultSettingsMap": {},
     "title": ""
    },
    "id": "Rnwg-52M-YYT"
   },
   "source": [
    "## Getting started with python- Day1"
   ]
  },
  {
   "cell_type": "code",
   "execution_count": 0,
   "metadata": {
    "application/vnd.databricks.v1+cell": {
     "cellMetadata": {},
     "inputWidgets": {},
     "nuid": "357cee5b-bce6-4902-b527-0a325edf3208",
     "showTitle": false,
     "tableResultSettingsMap": {},
     "title": ""
    },
    "id": "uqzRB1-p8zri"
   },
   "outputs": [],
   "source": [
    "Data Type (Immutable)\n",
    "int\n",
    "float\n",
    "string\n",
    "bool"
   ]
  },
  {
   "cell_type": "code",
   "execution_count": 0,
   "metadata": {
    "application/vnd.databricks.v1+cell": {
     "cellMetadata": {},
     "inputWidgets": {},
     "nuid": "1e9f0738-4c0f-43f9-9b71-1d7f2e47ec17",
     "showTitle": false,
     "tableResultSettingsMap": {},
     "title": ""
    },
    "colab": {
     "base_uri": "https://localhost:8080/"
    },
    "id": "tR9OuM_09PEU",
    "outputId": "feeffd24-2d5a-4c98-e32d-2b46b8048db9"
   },
   "outputs": [],
   "source": [
    "a=10\n",
    "print(a)\n",
    "print(type(a))"
   ]
  },
  {
   "cell_type": "code",
   "execution_count": 0,
   "metadata": {
    "application/vnd.databricks.v1+cell": {
     "cellMetadata": {},
     "inputWidgets": {},
     "nuid": "836cda16-d0c1-4b41-b3b8-f642c58e2448",
     "showTitle": false,
     "tableResultSettingsMap": {},
     "title": ""
    },
    "colab": {
     "base_uri": "https://localhost:8080/"
    },
    "id": "IrXR6KjP-XOb",
    "outputId": "6b30948e-c06c-473b-cc51-8ab2bc116b1d"
   },
   "outputs": [],
   "source": [
    "a=10.5\n",
    "print(a)\n",
    "print(type(a))"
   ]
  },
  {
   "cell_type": "code",
   "execution_count": 0,
   "metadata": {
    "application/vnd.databricks.v1+cell": {
     "cellMetadata": {},
     "inputWidgets": {},
     "nuid": "289bc07d-8164-4ff1-85ac-9a5c244dbd32",
     "showTitle": false,
     "tableResultSettingsMap": {},
     "title": ""
    },
    "colab": {
     "base_uri": "https://localhost:8080/"
    },
    "id": "YEHoZK6e-ijW",
    "outputId": "015694b3-14db-4a35-e7c5-75056d9c3dac"
   },
   "outputs": [],
   "source": [
    "print(a)"
   ]
  },
  {
   "cell_type": "code",
   "execution_count": 0,
   "metadata": {
    "application/vnd.databricks.v1+cell": {
     "cellMetadata": {},
     "inputWidgets": {},
     "nuid": "c7d718b6-b6ff-4402-8365-0c25aa87902c",
     "showTitle": false,
     "tableResultSettingsMap": {},
     "title": ""
    },
    "colab": {
     "base_uri": "https://localhost:8080/"
    },
    "id": "MKG3BD_l_AlR",
    "outputId": "ad62cf04-7795-4e5d-d3f3-3fed85bdaf10"
   },
   "outputs": [],
   "source": [
    "s=\"python\"\n",
    "print(type(s))\n",
    "print(s)"
   ]
  },
  {
   "cell_type": "code",
   "execution_count": 0,
   "metadata": {
    "application/vnd.databricks.v1+cell": {
     "cellMetadata": {},
     "inputWidgets": {},
     "nuid": "19569aa5-a49a-4653-a3e4-9ef4edcddebe",
     "showTitle": false,
     "tableResultSettingsMap": {},
     "title": ""
    },
    "colab": {
     "base_uri": "https://localhost:8080/"
    },
    "id": "ZIsqGKZK_K-y",
    "outputId": "3a006a3f-85a4-41be-8f83-cc4cd318080e"
   },
   "outputs": [],
   "source": [
    "n=\"\"\"databricks is data\n",
    "and ai company\"\"\"\n",
    "print(type(n))\n",
    "print(n)"
   ]
  },
  {
   "cell_type": "code",
   "execution_count": 0,
   "metadata": {
    "application/vnd.databricks.v1+cell": {
     "cellMetadata": {},
     "inputWidgets": {},
     "nuid": "ed103137-cbae-472c-b4f6-afbfce8405a4",
     "showTitle": false,
     "tableResultSettingsMap": {},
     "title": ""
    },
    "colab": {
     "base_uri": "https://localhost:8080/"
    },
    "id": "MaLwg3_8_ZX9",
    "outputId": "c36f51b9-da57-4fac-f1fa-4557f2c52090"
   },
   "outputs": [],
   "source": [
    "b=True\n",
    "print(type(b))\n",
    "print(b)"
   ]
  },
  {
   "cell_type": "code",
   "execution_count": 0,
   "metadata": {
    "application/vnd.databricks.v1+cell": {
     "cellMetadata": {},
     "inputWidgets": {},
     "nuid": "245ac70c-2ef8-4818-a769-abbb0950403c",
     "showTitle": false,
     "tableResultSettingsMap": {},
     "title": ""
    },
    "colab": {
     "base_uri": "https://localhost:8080/"
    },
    "id": "NX5mL0cw_v6o",
    "outputId": "7bf3e726-1b44-45fa-9887-966476390d8c"
   },
   "outputs": [],
   "source": [
    "d=\"10\"\n",
    "print(type(d))"
   ]
  },
  {
   "cell_type": "code",
   "execution_count": 0,
   "metadata": {
    "application/vnd.databricks.v1+cell": {
     "cellMetadata": {},
     "inputWidgets": {},
     "nuid": "2b29b630-17c5-4556-9719-19659df898e7",
     "showTitle": false,
     "tableResultSettingsMap": {},
     "title": ""
    },
    "colab": {
     "base_uri": "https://localhost:8080/"
    },
    "id": "4vuthJtw_ofG",
    "outputId": "97a5e53f-dadb-4fec-ee82-237539991b1c"
   },
   "outputs": [],
   "source": [
    "c=\"False\"\n",
    "print(c)\n",
    "print(type(c))"
   ]
  },
  {
   "cell_type": "code",
   "execution_count": 0,
   "metadata": {
    "application/vnd.databricks.v1+cell": {
     "cellMetadata": {},
     "inputWidgets": {},
     "nuid": "1ce8f6fb-4f5b-496a-9545-f2b3cf6d8e7a",
     "showTitle": false,
     "tableResultSettingsMap": {},
     "title": ""
    },
    "colab": {
     "base_uri": "https://localhost:8080/"
    },
    "id": "HtX7vSMtBMCJ",
    "outputId": "1620a62a-a431-4b19-8f32-2aae7973455c"
   },
   "outputs": [],
   "source": [
    "a=10\n",
    "print(a)\n",
    "print(type(a))\n",
    "print(id(a))"
   ]
  },
  {
   "cell_type": "code",
   "execution_count": 0,
   "metadata": {
    "application/vnd.databricks.v1+cell": {
     "cellMetadata": {},
     "inputWidgets": {},
     "nuid": "443a60a3-2c5e-4516-91bf-c3d88856c16d",
     "showTitle": false,
     "tableResultSettingsMap": {},
     "title": ""
    },
    "colab": {
     "base_uri": "https://localhost:8080/"
    },
    "id": "iwJS5a3eB3m2",
    "outputId": "1be60695-5924-44ed-cc57-5a1fc9341e07"
   },
   "outputs": [],
   "source": [
    "a=20\n",
    "print(a)\n",
    "print(type(a))\n",
    "print(id(a))"
   ]
  },
  {
   "cell_type": "code",
   "execution_count": 0,
   "metadata": {
    "application/vnd.databricks.v1+cell": {
     "cellMetadata": {},
     "inputWidgets": {},
     "nuid": "141b7990-ef6c-47b3-94e9-b7762e73f690",
     "showTitle": false,
     "tableResultSettingsMap": {},
     "title": ""
    },
    "colab": {
     "base_uri": "https://localhost:8080/"
    },
    "id": "SFfhrLqlB4xs",
    "outputId": "fccd4b17-dd89-46b7-cdfd-d34703762d07"
   },
   "outputs": [],
   "source": [
    "b=20\n",
    "print(b)\n",
    "print(type(b))\n",
    "print(id(b))"
   ]
  },
  {
   "cell_type": "code",
   "execution_count": 0,
   "metadata": {
    "application/vnd.databricks.v1+cell": {
     "cellMetadata": {},
     "inputWidgets": {},
     "nuid": "2ab25f91-504c-4a75-b785-aa77419d57ce",
     "showTitle": false,
     "tableResultSettingsMap": {},
     "title": ""
    },
    "colab": {
     "base_uri": "https://localhost:8080/"
    },
    "id": "UvGTz6QCCwcs",
    "outputId": "3c3b3fec-3b39-4db5-c947-eff74b372c0f"
   },
   "outputs": [],
   "source": [
    "c=20\n",
    "print(c)\n",
    "print(type(c))\n",
    "print(id(c))"
   ]
  },
  {
   "cell_type": "code",
   "execution_count": 0,
   "metadata": {
    "application/vnd.databricks.v1+cell": {
     "cellMetadata": {},
     "inputWidgets": {},
     "nuid": "a68acbbb-56d3-46eb-a3aa-5d810f9e14da",
     "showTitle": false,
     "tableResultSettingsMap": {},
     "title": ""
    },
    "colab": {
     "base_uri": "https://localhost:8080/"
    },
    "id": "8UIN1l-cEDDA",
    "outputId": "c98378ab-b25d-4149-96c2-f3025d132f96"
   },
   "outputs": [],
   "source": [
    "a=20\n",
    "print(a)\n",
    "print(type(a))\n",
    "print(id(a))"
   ]
  },
  {
   "cell_type": "code",
   "execution_count": 0,
   "metadata": {
    "application/vnd.databricks.v1+cell": {
     "cellMetadata": {},
     "inputWidgets": {},
     "nuid": "d5fa3e2e-6658-41ff-92ef-e995aaaf2266",
     "showTitle": false,
     "tableResultSettingsMap": {},
     "title": ""
    },
    "colab": {
     "base_uri": "https://localhost:8080/"
    },
    "id": "7wN7XGooEKSR",
    "outputId": "bb626f36-05b1-4d1d-a495-b89826e85cf4"
   },
   "outputs": [],
   "source": [
    "a=30\n",
    "print(a)\n",
    "print(type(a))\n",
    "print(id(a))"
   ]
  },
  {
   "cell_type": "code",
   "execution_count": 0,
   "metadata": {
    "application/vnd.databricks.v1+cell": {
     "cellMetadata": {},
     "inputWidgets": {},
     "nuid": "8ae5c477-2cec-4fb8-b4eb-b88e8164c1d3",
     "showTitle": false,
     "tableResultSettingsMap": {},
     "title": ""
    },
    "colab": {
     "base_uri": "https://localhost:8080/"
    },
    "id": "R0C7BjMFEPKy",
    "outputId": "946b719c-6e58-4d5a-fdae-d647722d6bda"
   },
   "outputs": [],
   "source": [
    "b=20\n",
    "print(b)\n",
    "print(type(b))\n",
    "print(id(b))"
   ]
  },
  {
   "cell_type": "code",
   "execution_count": 0,
   "metadata": {
    "application/vnd.databricks.v1+cell": {
     "cellMetadata": {},
     "inputWidgets": {},
     "nuid": "048a4823-8ba7-4149-ac5e-6dec0dec781a",
     "showTitle": false,
     "tableResultSettingsMap": {},
     "title": ""
    },
    "colab": {
     "base_uri": "https://localhost:8080/"
    },
    "id": "oxl8AiS_Elw5",
    "outputId": "87ed5180-881f-462c-bb51-2df61aa239d9"
   },
   "outputs": [],
   "source": [
    "a=10\n",
    "b=float(a)\n",
    "print(b)\n",
    "print(type(a))\n",
    "print(type(b))"
   ]
  },
  {
   "cell_type": "code",
   "execution_count": 0,
   "metadata": {
    "application/vnd.databricks.v1+cell": {
     "cellMetadata": {},
     "inputWidgets": {},
     "nuid": "c85ec124-ce3e-4612-8ce5-9d763ca634e7",
     "showTitle": false,
     "tableResultSettingsMap": {},
     "title": ""
    },
    "colab": {
     "base_uri": "https://localhost:8080/"
    },
    "id": "kiqDo4WEEzfu",
    "outputId": "fe6a2fc3-a9d3-4bc1-f759-8bab07b7446c"
   },
   "outputs": [],
   "source": [
    "a=10\n",
    "b=str(a)\n",
    "print(b)\n",
    "print(type(a))\n",
    "print(type(b))"
   ]
  },
  {
   "cell_type": "code",
   "execution_count": 0,
   "metadata": {
    "application/vnd.databricks.v1+cell": {
     "cellMetadata": {},
     "inputWidgets": {},
     "nuid": "9d261b05-8407-417c-9c44-d18166a3f8b0",
     "showTitle": false,
     "tableResultSettingsMap": {},
     "title": ""
    },
    "colab": {
     "base_uri": "https://localhost:8080/"
    },
    "id": "_Tdgm9XCF3zF",
    "outputId": "fb1e5a50-c8d1-4234-b137-88a1d35f8c12"
   },
   "outputs": [],
   "source": [
    "a=0\n",
    "b=bool(a)\n",
    "print(b)\n",
    "print(type(a))\n",
    "print(type(b))"
   ]
  },
  {
   "cell_type": "code",
   "execution_count": 0,
   "metadata": {
    "application/vnd.databricks.v1+cell": {
     "cellMetadata": {},
     "inputWidgets": {},
     "nuid": "f4067846-319d-4620-b68f-d345ac1f787a",
     "showTitle": false,
     "tableResultSettingsMap": {},
     "title": ""
    },
    "colab": {
     "base_uri": "https://localhost:8080/"
    },
    "id": "dt_VpxjPGOH6",
    "outputId": "d48b087d-c864-4662-e513-69a483a0769d"
   },
   "outputs": [],
   "source": [
    "s=\"10\"\n",
    "t=int(s)\n",
    "print(t)"
   ]
  },
  {
   "cell_type": "code",
   "execution_count": 0,
   "metadata": {
    "application/vnd.databricks.v1+cell": {
     "cellMetadata": {},
     "inputWidgets": {},
     "nuid": "d0c1134d-faac-459a-b327-93e69ee456ea",
     "showTitle": false,
     "tableResultSettingsMap": {},
     "title": ""
    },
    "colab": {
     "base_uri": "https://localhost:8080/",
     "height": 176
    },
    "id": "uvlwHAQ-GGGs",
    "outputId": "ed8eecf4-6e64-43f6-eb5b-b979f0508808"
   },
   "outputs": [],
   "source": [
    "s=\"SQL\"\n",
    "t=int(s)\n",
    "print(t)"
   ]
  },
  {
   "cell_type": "code",
   "execution_count": 0,
   "metadata": {
    "application/vnd.databricks.v1+cell": {
     "cellMetadata": {},
     "inputWidgets": {},
     "nuid": "3bc252a5-bf97-4454-931c-911f2fd9d941",
     "showTitle": false,
     "tableResultSettingsMap": {},
     "title": ""
    },
    "colab": {
     "base_uri": "https://localhost:8080/"
    },
    "id": "wt8AvcB2HJIW",
    "outputId": "a686704d-d16f-4bf4-87b1-35371152661e"
   },
   "outputs": [],
   "source": [
    "s=\"Databricks\"\n",
    "print(s)"
   ]
  },
  {
   "cell_type": "code",
   "execution_count": 0,
   "metadata": {
    "application/vnd.databricks.v1+cell": {
     "cellMetadata": {},
     "inputWidgets": {},
     "nuid": "9912bb30-ddcf-40c9-a4ba-771b4f69a1e5",
     "showTitle": false,
     "tableResultSettingsMap": {},
     "title": ""
    },
    "colab": {
     "base_uri": "https://localhost:8080/",
     "height": 35
    },
    "id": "N8-yLLcYHMX8",
    "outputId": "32edfb83-06a6-45ea-ef6b-00f8fdc19b21"
   },
   "outputs": [],
   "source": [
    "s[0]"
   ]
  },
  {
   "cell_type": "code",
   "execution_count": 0,
   "metadata": {
    "application/vnd.databricks.v1+cell": {
     "cellMetadata": {},
     "inputWidgets": {},
     "nuid": "81886db6-6f96-4250-8fe2-90c7fdc782c4",
     "showTitle": false,
     "tableResultSettingsMap": {},
     "title": ""
    },
    "colab": {
     "base_uri": "https://localhost:8080/",
     "height": 35
    },
    "id": "uPmwdVJdHcnR",
    "outputId": "ffbd2e2b-7a3f-4271-c05f-a841cbb1b260"
   },
   "outputs": [],
   "source": [
    "s[-1]"
   ]
  },
  {
   "cell_type": "code",
   "execution_count": 0,
   "metadata": {
    "application/vnd.databricks.v1+cell": {
     "cellMetadata": {},
     "inputWidgets": {},
     "nuid": "269baa64-89f9-4b30-b639-a6dc9dcb3cec",
     "showTitle": false,
     "tableResultSettingsMap": {},
     "title": ""
    },
    "colab": {
     "base_uri": "https://localhost:8080/",
     "height": 35
    },
    "id": "xmAIHiswHhOX",
    "outputId": "5218ab2c-3e8e-4dda-a15a-fcc85848587a"
   },
   "outputs": [],
   "source": [
    "s[0:5]"
   ]
  },
  {
   "cell_type": "code",
   "execution_count": 0,
   "metadata": {
    "application/vnd.databricks.v1+cell": {
     "cellMetadata": {},
     "inputWidgets": {},
     "nuid": "ce6d0216-3953-4f6b-acfa-a8456b96e781",
     "showTitle": false,
     "tableResultSettingsMap": {},
     "title": ""
    },
    "colab": {
     "base_uri": "https://localhost:8080/",
     "height": 35
    },
    "id": "ClyPbx8CHsg2",
    "outputId": "cab16f82-8372-4490-932a-c92ea4fcf722"
   },
   "outputs": [],
   "source": [
    "s[:]"
   ]
  },
  {
   "cell_type": "code",
   "execution_count": 0,
   "metadata": {
    "application/vnd.databricks.v1+cell": {
     "cellMetadata": {},
     "inputWidgets": {},
     "nuid": "43db8bc6-9a5f-48ee-bfdf-fe87fcaa3699",
     "showTitle": false,
     "tableResultSettingsMap": {},
     "title": ""
    },
    "colab": {
     "base_uri": "https://localhost:8080/"
    },
    "id": "MHnU5YvuIHJZ",
    "outputId": "378bfcb4-40bf-4430-e907-d5ce64c4d81f"
   },
   "outputs": [],
   "source": [
    "s=\"AWS\" + \"Databricks\"\n",
    "print(s)"
   ]
  },
  {
   "cell_type": "code",
   "execution_count": 0,
   "metadata": {
    "application/vnd.databricks.v1+cell": {
     "cellMetadata": {},
     "inputWidgets": {},
     "nuid": "941e5729-c93b-43ec-aab3-59cec20f990b",
     "showTitle": false,
     "tableResultSettingsMap": {},
     "title": ""
    },
    "id": "tI7Ii-D5Idyt"
   },
   "outputs": [],
   "source": [
    "s=\"AWS\" + \"Databricks\"\n",
    "print(s)"
   ]
  },
  {
   "cell_type": "code",
   "execution_count": 0,
   "metadata": {
    "application/vnd.databricks.v1+cell": {
     "cellMetadata": {},
     "inputWidgets": {},
     "nuid": "695607fc-3054-4a9e-99c8-20ae8a5d10f8",
     "showTitle": false,
     "tableResultSettingsMap": {},
     "title": ""
    },
    "colab": {
     "base_uri": "https://localhost:8080/",
     "height": 158
    },
    "id": "JkjT_7LfIvmH",
    "outputId": "9a486881-facd-48c3-f88f-a5c075467e7a"
   },
   "outputs": [],
   "source": [
    "s=\"AWS\" + 10\n",
    "print(s)"
   ]
  },
  {
   "cell_type": "code",
   "execution_count": 0,
   "metadata": {
    "application/vnd.databricks.v1+cell": {
     "cellMetadata": {},
     "inputWidgets": {},
     "nuid": "50d65eb2-e0d6-49e3-b2c1-df45b05a69da",
     "showTitle": false,
     "tableResultSettingsMap": {},
     "title": ""
    },
    "colab": {
     "base_uri": "https://localhost:8080/",
     "height": 158
    },
    "id": "xURG1UlgIVdn",
    "outputId": "7e5a95b2-5e4e-4606-d873-ddb45d323631"
   },
   "outputs": [],
   "source": [
    "s=\"AWS\" * \"Databricks\"\n",
    "print(s)"
   ]
  },
  {
   "cell_type": "code",
   "execution_count": 0,
   "metadata": {
    "application/vnd.databricks.v1+cell": {
     "cellMetadata": {},
     "inputWidgets": {},
     "nuid": "8f9eca20-b14e-4478-b945-a123ecaca070",
     "showTitle": false,
     "tableResultSettingsMap": {},
     "title": ""
    },
    "colab": {
     "base_uri": "https://localhost:8080/"
    },
    "id": "zUaduU60Inrx",
    "outputId": "63e400b7-c22e-467e-f794-bd5d245f50bc"
   },
   "outputs": [],
   "source": [
    "s=\"AWS\" * 10\n",
    "print(s)"
   ]
  },
  {
   "cell_type": "markdown",
   "metadata": {
    "application/vnd.databricks.v1+cell": {
     "cellMetadata": {},
     "inputWidgets": {},
     "nuid": "280da079-c099-49af-9862-34a466abdfca",
     "showTitle": false,
     "tableResultSettingsMap": {},
     "title": ""
    },
    "id": "0N6WczHhI52G"
   },
   "source": [
    "plus(+)\n",
    "str + str\n",
    "\n",
    "(*)\n",
    "str* int"
   ]
  },
  {
   "cell_type": "markdown",
   "metadata": {
    "application/vnd.databricks.v1+cell": {
     "cellMetadata": {},
     "inputWidgets": {},
     "nuid": "16869df9-098f-4064-8c45-38ed6313af3a",
     "showTitle": false,
     "tableResultSettingsMap": {},
     "title": ""
    },
    "id": "wXi24VusJv0H"
   },
   "source": [
    "# List []\n",
    "\n",
    "1.   allows duplicate\n",
    "2.   heterogenous  \n",
    "3. order is preserverd\n",
    "4. indexing & slicing\n",
    "5. Mutable"
   ]
  },
  {
   "cell_type": "code",
   "execution_count": 0,
   "metadata": {
    "application/vnd.databricks.v1+cell": {
     "cellMetadata": {},
     "inputWidgets": {},
     "nuid": "7522f70c-c400-4993-8b1d-166c3ea5ec5c",
     "showTitle": false,
     "tableResultSettingsMap": {},
     "title": ""
    },
    "colab": {
     "base_uri": "https://localhost:8080/"
    },
    "id": "LRy9H4HnJLxd",
    "outputId": "1ab43eb4-8b2c-4d2b-eb1d-a0b79d220d2d"
   },
   "outputs": [],
   "source": [
    "l=[10,'a',20,10,10.5,10,True,'Python']\n",
    "print(l)\n",
    "print(type(l))"
   ]
  },
  {
   "cell_type": "code",
   "execution_count": 0,
   "metadata": {
    "application/vnd.databricks.v1+cell": {
     "cellMetadata": {},
     "inputWidgets": {},
     "nuid": "2d65437e-ffc9-4718-b18b-1bcd72daa9c2",
     "showTitle": false,
     "tableResultSettingsMap": {},
     "title": ""
    },
    "colab": {
     "base_uri": "https://localhost:8080/",
     "height": 35
    },
    "id": "sCnvGle5MK-g",
    "outputId": "343abc20-5f7b-4414-f5c4-d55ecdd47402"
   },
   "outputs": [],
   "source": [
    "l[-1]"
   ]
  },
  {
   "cell_type": "code",
   "execution_count": 0,
   "metadata": {
    "application/vnd.databricks.v1+cell": {
     "cellMetadata": {},
     "inputWidgets": {},
     "nuid": "a5b0de45-f6e4-4872-96b0-aee734bb09fc",
     "showTitle": false,
     "tableResultSettingsMap": {},
     "title": ""
    },
    "colab": {
     "base_uri": "https://localhost:8080/"
    },
    "id": "fNtHnFTEKG9R",
    "outputId": "593b660c-8846-4a13-b1ef-e3a144349e5e"
   },
   "outputs": [],
   "source": [
    "l=[10,'a',20]\n",
    "print(l)\n",
    "print(type(l))\n",
    "print(id(l))"
   ]
  },
  {
   "cell_type": "code",
   "execution_count": 0,
   "metadata": {
    "application/vnd.databricks.v1+cell": {
     "cellMetadata": {},
     "inputWidgets": {},
     "nuid": "eb2d31e1-8f59-4f08-b1b8-0ae8e08e67b3",
     "showTitle": false,
     "tableResultSettingsMap": {},
     "title": ""
    },
    "colab": {
     "base_uri": "https://localhost:8080/"
    },
    "id": "DEsnsS7AQMms",
    "outputId": "f4e7ebde-333c-4f39-da3d-fea60d9931b2"
   },
   "outputs": [],
   "source": [
    "l.append(999)\n",
    "print(l)"
   ]
  },
  {
   "cell_type": "code",
   "execution_count": 0,
   "metadata": {
    "application/vnd.databricks.v1+cell": {
     "cellMetadata": {},
     "inputWidgets": {},
     "nuid": "7943e010-96c8-4cf1-b4c6-88b12f5bca83",
     "showTitle": false,
     "tableResultSettingsMap": {},
     "title": ""
    },
    "colab": {
     "base_uri": "https://localhost:8080/"
    },
    "id": "Zm32tcFIQQcA",
    "outputId": "697b542c-42de-4ff4-9a2c-4cfb62b560c6"
   },
   "outputs": [],
   "source": [
    "#l.remove(20)\n",
    "print(l)"
   ]
  },
  {
   "cell_type": "markdown",
   "metadata": {
    "application/vnd.databricks.v1+cell": {
     "cellMetadata": {},
     "inputWidgets": {},
     "nuid": "4cee624e-acbc-46f8-b608-5997491284ec",
     "showTitle": false,
     "tableResultSettingsMap": {},
     "title": ""
    },
    "id": "qriu1JUEP0Lc"
   },
   "source": [
    "Tuple:\n",
    "\n",
    "\n",
    "1.   ()\n",
    "2.   Exactly same as list except that it is immutable\n",
    "3. read only version of list is Tuple\n",
    "\n"
   ]
  },
  {
   "cell_type": "code",
   "execution_count": 0,
   "metadata": {
    "application/vnd.databricks.v1+cell": {
     "cellMetadata": {},
     "inputWidgets": {},
     "nuid": "89f9eff5-a7f4-44f4-97a0-dbb93c9300c9",
     "showTitle": false,
     "tableResultSettingsMap": {},
     "title": ""
    },
    "colab": {
     "base_uri": "https://localhost:8080/"
    },
    "id": "LeU1cSdBLihd",
    "outputId": "7e70c219-62bf-4a8f-84e2-5feaf2d00e28"
   },
   "outputs": [],
   "source": [
    "\n",
    "t=(10,'pyhton',10.5,False)\n",
    "print(t)\n",
    "print(type(t))"
   ]
  },
  {
   "cell_type": "code",
   "execution_count": 0,
   "metadata": {
    "application/vnd.databricks.v1+cell": {
     "cellMetadata": {},
     "inputWidgets": {},
     "nuid": "42770911-dc23-4480-9d27-854eb3e09368",
     "showTitle": false,
     "tableResultSettingsMap": {},
     "title": ""
    },
    "colab": {
     "base_uri": "https://localhost:8080/"
    },
    "id": "KcsZ0KeqQiPx",
    "outputId": "71184af4-7a9b-4b78-a127-9cfa26036fc2"
   },
   "outputs": [],
   "source": [
    "t[0:3]"
   ]
  },
  {
   "cell_type": "code",
   "execution_count": 0,
   "metadata": {
    "application/vnd.databricks.v1+cell": {
     "cellMetadata": {},
     "inputWidgets": {},
     "nuid": "6f3ab697-cb21-48cf-a719-6e5e103f8aec",
     "showTitle": false,
     "tableResultSettingsMap": {},
     "title": ""
    },
    "colab": {
     "base_uri": "https://localhost:8080/",
     "height": 141
    },
    "id": "SoSliVAmQIzP",
    "outputId": "c5739795-8327-47aa-e1f3-26cd9e2cefb7"
   },
   "outputs": [],
   "source": [
    "t.append(99)"
   ]
  },
  {
   "cell_type": "code",
   "execution_count": 0,
   "metadata": {
    "application/vnd.databricks.v1+cell": {
     "cellMetadata": {},
     "inputWidgets": {},
     "nuid": "bed01b4b-a26e-46cf-a7c3-5602f1ac3d7d",
     "showTitle": false,
     "tableResultSettingsMap": {},
     "title": ""
    },
    "id": "2mGCeZApQcxl"
   },
   "outputs": [],
   "source": []
  },
  {
   "cell_type": "markdown",
   "metadata": {
    "application/vnd.databricks.v1+cell": {
     "cellMetadata": {},
     "inputWidgets": {},
     "nuid": "347d3ca3-020b-406b-a0aa-293890cf4ecd",
     "showTitle": false,
     "tableResultSettingsMap": {},
     "title": ""
    },
    "id": "BXiKDPMiRVBz"
   },
   "source": [
    "Set\n",
    "\n",
    "\n",
    "1.   {}\n",
    "2.   Duplicate not allowed\n",
    "3. order is not preserved\n",
    "4. index and slicing is not applicable\n",
    "5. Heteogenous objects\n",
    "6. Mutable\n",
    "\n"
   ]
  },
  {
   "cell_type": "code",
   "execution_count": 0,
   "metadata": {
    "application/vnd.databricks.v1+cell": {
     "cellMetadata": {},
     "inputWidgets": {},
     "nuid": "6cec911b-7535-46fe-bacd-deacb6ab1ad5",
     "showTitle": false,
     "tableResultSettingsMap": {},
     "title": ""
    },
    "colab": {
     "base_uri": "https://localhost:8080/"
    },
    "id": "xo7p7eAGR6Ap",
    "outputId": "7ffdcfde-e839-4b48-9592-b56fc6068522"
   },
   "outputs": [],
   "source": [
    "s={10,10,20,'a',True,10,10.5,99,99,'python'}\n",
    "print(s)"
   ]
  },
  {
   "cell_type": "code",
   "execution_count": 0,
   "metadata": {
    "application/vnd.databricks.v1+cell": {
     "cellMetadata": {},
     "inputWidgets": {},
     "nuid": "735fde8f-15bd-4408-acba-ae1478475866",
     "showTitle": false,
     "tableResultSettingsMap": {},
     "title": ""
    },
    "colab": {
     "base_uri": "https://localhost:8080/"
    },
    "id": "bp9medzoSAWR",
    "outputId": "8d71726c-83e5-40ca-fa26-077f49383ec5"
   },
   "outputs": [],
   "source": [
    "s.add(55)\n",
    "print(s)"
   ]
  },
  {
   "cell_type": "markdown",
   "metadata": {
    "application/vnd.databricks.v1+cell": {
     "cellMetadata": {},
     "inputWidgets": {},
     "nuid": "a4d96797-71ea-429a-86a3-babd4b317c7c",
     "showTitle": false,
     "tableResultSettingsMap": {},
     "title": ""
    },
    "id": "H3sJO5sCSi0-"
   },
   "source": [
    "Dict:\n",
    "1.   {k:v}\n",
    "2.   Duplicates keys are not allowed\n",
    "3. duplicate values are allowed\n",
    "4. Heterogneous objects\n",
    "5. Mutable\n"
   ]
  },
  {
   "cell_type": "code",
   "execution_count": 0,
   "metadata": {
    "application/vnd.databricks.v1+cell": {
     "cellMetadata": {},
     "inputWidgets": {},
     "nuid": "709434ab-76e8-4bb5-b2a9-3e9128b84197",
     "showTitle": false,
     "tableResultSettingsMap": {},
     "title": ""
    },
    "colab": {
     "base_uri": "https://localhost:8080/"
    },
    "id": "YFk14dDjSOAo",
    "outputId": "699fafa8-ed6a-4b01-ca59-7aa29787955c"
   },
   "outputs": [],
   "source": [
    "d={1:'a',2:'b',3:'a',4:True,5:10.9}\n",
    "print(d)\n",
    "print(type(d))"
   ]
  },
  {
   "cell_type": "code",
   "execution_count": 0,
   "metadata": {
    "application/vnd.databricks.v1+cell": {
     "cellMetadata": {},
     "inputWidgets": {},
     "nuid": "a1c01a82-2485-4f69-b746-c6c7b2a56a07",
     "showTitle": false,
     "tableResultSettingsMap": {},
     "title": ""
    },
    "id": "tvAjbmdQSxJB"
   },
   "outputs": [],
   "source": [
    "d[3]='Naval'"
   ]
  },
  {
   "cell_type": "code",
   "execution_count": 0,
   "metadata": {
    "application/vnd.databricks.v1+cell": {
     "cellMetadata": {},
     "inputWidgets": {},
     "nuid": "a0af569f-667b-4f1f-a540-87ea2d0e944c",
     "showTitle": false,
     "tableResultSettingsMap": {},
     "title": ""
    },
    "colab": {
     "base_uri": "https://localhost:8080/"
    },
    "id": "4X-DSFffTU-j",
    "outputId": "d2bbca1e-85a1-4e20-e272-62cee9118993"
   },
   "outputs": [],
   "source": [
    "print(d)"
   ]
  },
  {
   "cell_type": "code",
   "execution_count": 0,
   "metadata": {
    "application/vnd.databricks.v1+cell": {
     "cellMetadata": {},
     "inputWidgets": {},
     "nuid": "09c06eb7-d52f-46d8-a99f-a22892b90857",
     "showTitle": false,
     "tableResultSettingsMap": {},
     "title": ""
    },
    "id": "HAMSXfrPTWEW"
   },
   "outputs": [],
   "source": [
    "Range: sequnce of number"
   ]
  },
  {
   "cell_type": "code",
   "execution_count": 0,
   "metadata": {
    "application/vnd.databricks.v1+cell": {
     "cellMetadata": {},
     "inputWidgets": {},
     "nuid": "aeb2e4e7-bc58-426f-a3ba-128ec2d9c3a8",
     "showTitle": false,
     "tableResultSettingsMap": {},
     "title": ""
    },
    "colab": {
     "base_uri": "https://localhost:8080/"
    },
    "id": "eRbeWfFWUado",
    "outputId": "5ee03636-12ba-4752-c0cf-d6727af54579"
   },
   "outputs": [],
   "source": [
    "r=range(10)\n",
    "print(r)\n",
    "print(type(r))"
   ]
  },
  {
   "cell_type": "code",
   "execution_count": 0,
   "metadata": {
    "application/vnd.databricks.v1+cell": {
     "cellMetadata": {},
     "inputWidgets": {},
     "nuid": "f7ce1ab1-311d-4be1-8de5-c1098e5b4600",
     "showTitle": false,
     "tableResultSettingsMap": {},
     "title": ""
    },
    "colab": {
     "base_uri": "https://localhost:8080/"
    },
    "id": "S1WiuhQuUgAY",
    "outputId": "b2ae153e-d241-49ba-a669-08aa1ae93552"
   },
   "outputs": [],
   "source": [
    "for i in range(5):\n",
    "  print(i)"
   ]
  },
  {
   "cell_type": "code",
   "execution_count": 0,
   "metadata": {
    "application/vnd.databricks.v1+cell": {
     "cellMetadata": {},
     "inputWidgets": {},
     "nuid": "c3814305-7c1f-4c7f-b60a-6eb7370c70fd",
     "showTitle": false,
     "tableResultSettingsMap": {},
     "title": ""
    },
    "colab": {
     "base_uri": "https://localhost:8080/"
    },
    "id": "VjYZJax9VQc1",
    "outputId": "61d474d9-7dac-410b-a29e-8201d168e10d"
   },
   "outputs": [],
   "source": [
    "for i in range(5,11):\n",
    "  print(i)"
   ]
  },
  {
   "cell_type": "code",
   "execution_count": 0,
   "metadata": {
    "application/vnd.databricks.v1+cell": {
     "cellMetadata": {},
     "inputWidgets": {},
     "nuid": "d6f91d5d-09f7-4e1b-9838-e97c6c18214a",
     "showTitle": false,
     "tableResultSettingsMap": {},
     "title": ""
    },
    "colab": {
     "base_uri": "https://localhost:8080/"
    },
    "id": "X851IfheVaMK",
    "outputId": "cbde6382-9401-446f-9131-66cf657188fb"
   },
   "outputs": [],
   "source": [
    "for i in range(2,21,2):\n",
    "  print(i)"
   ]
  },
  {
   "cell_type": "code",
   "execution_count": 0,
   "metadata": {
    "application/vnd.databricks.v1+cell": {
     "cellMetadata": {},
     "inputWidgets": {},
     "nuid": "e2a38d83-de97-445b-b76e-b3deb14ffab2",
     "showTitle": false,
     "tableResultSettingsMap": {},
     "title": ""
    },
    "id": "BM7dNphVVjcb"
   },
   "outputs": [],
   "source": []
  }
 ],
 "metadata": {
  "application/vnd.databricks.v1+notebook": {
   "computePreferences": null,
   "dashboards": [],
   "environmentMetadata": null,
   "inputWidgetPreferences": null,
   "language": "python",
   "notebookMetadata": {
    "pythonIndentUnit": 4
   },
   "notebookName": "Getting_started_with_python_",
   "widgets": {}
  },
  "colab": {
   "provenance": []
  },
  "kernelspec": {
   "display_name": "Python 3",
   "name": "python3"
  },
  "language_info": {
   "name": "python"
  }
 },
 "nbformat": 4,
 "nbformat_minor": 0
}
